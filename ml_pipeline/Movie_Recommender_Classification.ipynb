{
  "nbformat": 4,
  "nbformat_minor": 0,
  "metadata": {
    "colab": {
      "name": "Movie_Recommender_Classification.ipynb",
      "provenance": [],
      "collapsed_sections": [],
      "toc_visible": true,
      "include_colab_link": true
    },
    "kernelspec": {
      "name": "python3",
      "display_name": "Python 3"
    },
    "language_info": {
      "name": "python"
    }
  },
  "cells": [
    {
      "cell_type": "markdown",
      "metadata": {
        "id": "view-in-github",
        "colab_type": "text"
      },
      "source": [
        "<a href=\"https://colab.research.google.com/github/FiddiCoder/-FIA-Project/blob/main/ml_pipeline/Movie_Recommender_Classification.ipynb\" target=\"_parent\"><img src=\"https://colab.research.google.com/assets/colab-badge.svg\" alt=\"Open In Colab\"/></a>"
      ]
    },
    {
      "cell_type": "code",
      "execution_count": null,
      "metadata": {
        "id": "tmOGjJuIPGOn"
      },
      "outputs": [],
      "source": [
        "# To support both python 2 and python 3\n",
        "from __future__ import division, print_function, unicode_literals\n",
        "\n",
        "# Common imports\n",
        "#as rename \n",
        "import numpy as np\n",
        "import os\n",
        "import matplotlib.pyplot as plt\n",
        "import pandas as pd"
      ]
    },
    {
      "cell_type": "code",
      "source": [
        "import os\n",
        "import tarfile\n",
        "from six.moves import urllib\n",
        "\n",
        "DOWNLOAD_ROOT = \"https://raw.githubusercontent.com/FiddiCoder/-FIA-Project/main/\"\n",
        "FILE_PATH = os.path.join(\"dataset\")\n",
        "FILE_URL1 = DOWNLOAD_ROOT + \"dataset/imdb_top_1000.csv\"\n",
        "\n",
        "def fetch_file_data1(file_url1=FILE_URL1, file_path1=FILE_PATH):\n",
        "    os.makedirs(file_path1, exist_ok=True)\n",
        "    csv_path1 = os.path.join(file_path1, \"imdb_top_1000.csv\")\n",
        "    urllib.request.urlretrieve(file_url1, csv_path1)\n",
        "\n",
        "fetch_file_data1()"
      ],
      "metadata": {
        "id": "o_eJ8BN7fchx"
      },
      "execution_count": null,
      "outputs": []
    },
    {
      "cell_type": "code",
      "source": [
        "#load our data\n",
        "datapath = os.path.join(\"dataset\",\"\")\n",
        "movies = pd.read_csv(datapath + \"imdb_top_1000.csv\")"
      ],
      "metadata": {
        "id": "Jf9N_gHagA7S"
      },
      "execution_count": null,
      "outputs": []
    },
    {
      "cell_type": "code",
      "source": [
        "#distribution of data\n",
        "print(movies.describe())"
      ],
      "metadata": {
        "id": "UGN3BRlWiy4j",
        "outputId": "aa984184-ab85-4e8d-9a9b-d71c6626b863",
        "colab": {
          "base_uri": "https://localhost:8080/"
        }
      },
      "execution_count": null,
      "outputs": [
        {
          "output_type": "stream",
          "name": "stdout",
          "text": [
            "       IMDB_Rating  Meta_score   No_of_Votes\n",
            "count  1000.000000  843.000000  1.000000e+03\n",
            "mean      7.949300   77.971530  2.736929e+05\n",
            "std       0.275491   12.376099  3.273727e+05\n",
            "min       7.600000   28.000000  2.508800e+04\n",
            "25%       7.700000   70.000000  5.552625e+04\n",
            "50%       7.900000   79.000000  1.385485e+05\n",
            "75%       8.100000   87.000000  3.741612e+05\n",
            "max       9.300000  100.000000  2.343110e+06\n"
          ]
        }
      ]
    },
    {
      "cell_type": "markdown",
      "source": [
        "#Scarsa correlazione tra voto di critica e pubblico, di conseguenza inutile fare clustering, ci limiteremo a fare una media flat dei valori null Metascore."
      ],
      "metadata": {
        "id": "65fCVepioSSq"
      }
    },
    {
      "cell_type": "code",
      "source": [
        "#scatterplot\n",
        "\n",
        "movies.plot(x='IMDB_Rating', y='Meta_score', kind='scatter')\n",
        "plt.show()"
      ],
      "metadata": {
        "colab": {
          "base_uri": "https://localhost:8080/",
          "height": 280
        },
        "id": "VVSRtxFAoY0H",
        "outputId": "57a181ae-4f86-4b91-ff2a-62e43164f6e1"
      },
      "execution_count": null,
      "outputs": [
        {
          "output_type": "display_data",
          "data": {
            "image/png": "[encoded data removed]",
            "text/plain": [
              "<Figure size 432x288 with 1 Axes>"
            ]
          },
          "metadata": {
            "needs_background": "light"
          }
        }
      ]
    },
    {
      "cell_type": "code",
      "source": [
        "#start to look into missing data\n",
        "print(movies.head(20))\n",
        "pd.set_option('display.max_columns', None)\n",
        "pd.set_option('display.max_rows', None)"
      ],
      "metadata": {
        "id": "OyDXXHYglwwd",
        "colab": {
          "base_uri": "https://localhost:8080/"
        },
        "outputId": "9f5587a6-96a2-4da3-9728-dd226988ab08"
      },
      "execution_count": null,
      "outputs": [
        {
          "output_type": "stream",
          "name": "stdout",
          "text": [
            "                                          Poster_Link  \\\n",
            "0   https://m.media-amazon.com/images/M/MV5BMDFkYT...   \n",
            "1   https://m.media-amazon.com/images/M/MV5BM2MyNj...   \n",
            "2   https://m.media-amazon.com/images/M/MV5BMTMxNT...   \n",
            "3   https://m.media-amazon.com/images/M/MV5BMWMwMG...   \n",
            "4   https://m.media-amazon.com/images/M/MV5BMWU4N2...   \n",
            "5   https://m.media-amazon.com/images/M/MV5BNzA5ZD...   \n",
            "6   https://m.media-amazon.com/images/M/MV5BNGNhMD...   \n",
            "7   https://m.media-amazon.com/images/M/MV5BNDE4OT...   \n",
            "8   https://m.media-amazon.com/images/M/MV5BMjAxMz...   \n",
            "9   https://m.media-amazon.com/images/M/MV5BMmEzNT...   \n",
            "10  https://m.media-amazon.com/images/M/MV5BN2EyZj...   \n",
            "11  https://m.media-amazon.com/images/M/MV5BNWIwOD...   \n",
            "12  https://m.media-amazon.com/images/M/MV5BOTQ5ND...   \n",
            "13  https://m.media-amazon.com/images/M/MV5BZGMxZT...   \n",
            "14  https://m.media-amazon.com/images/M/MV5BNzQzOT...   \n",
            "15  https://m.media-amazon.com/images/M/MV5BY2NkZj...   \n",
            "16  https://m.media-amazon.com/images/M/MV5BYmU1ND...   \n",
            "17  https://m.media-amazon.com/images/M/MV5BZjA0OW...   \n",
            "18  https://m.media-amazon.com/images/M/MV5BNjViNW...   \n",
            "19  https://m.media-amazon.com/images/M/MV5BYWZjMj...   \n",
            "\n",
            "                                         Series_Title Released_Year  \\\n",
            "0                            The Shawshank Redemption          1994   \n",
            "1                                       The Godfather          1972   \n",
            "2                                     The Dark Knight          2008   \n",
            "3                              The Godfather: Part II          1974   \n",
            "4                                        12 Angry Men          1957   \n",
            "5       The Lord of the Rings: The Return of the King          2003   \n",
            "6                                        Pulp Fiction          1994   \n",
            "7                                    Schindler's List          1993   \n",
            "8                                           Inception          2010   \n",
            "9                                          Fight Club          1999   \n",
            "10  The Lord of the Rings: The Fellowship of the Ring          2001   \n",
            "11                                       Forrest Gump          1994   \n",
            "12                    Il buono, il brutto, il cattivo          1966   \n",
            "13              The Lord of the Rings: The Two Towers          2002   \n",
            "14                                         The Matrix          1999   \n",
            "15                                         Goodfellas          1990   \n",
            "16     Star Wars: Episode V - The Empire Strikes Back          1980   \n",
            "17                    One Flew Over the Cuckoo's Nest          1975   \n",
            "18                                           Hamilton          2020   \n",
            "19                                       Gisaengchung          2019   \n",
            "\n",
            "   Certificate  Runtime                       Genre  IMDB_Rating  \\\n",
            "0            A  142 min                       Drama          9.3   \n",
            "1            A  175 min                Crime, Drama          9.2   \n",
            "2           UA  152 min        Action, Crime, Drama          9.0   \n",
            "3            A  202 min                Crime, Drama          9.0   \n",
            "4            U   96 min                Crime, Drama          9.0   \n",
            "5            U  201 min    Action, Adventure, Drama          8.9   \n",
            "6            A  154 min                Crime, Drama          8.9   \n",
            "7            A  195 min   Biography, Drama, History          8.9   \n",
            "8           UA  148 min   Action, Adventure, Sci-Fi          8.8   \n",
            "9            A  139 min                       Drama          8.8   \n",
            "10           U  178 min    Action, Adventure, Drama          8.8   \n",
            "11          UA  142 min              Drama, Romance          8.8   \n",
            "12           A  161 min                     Western          8.8   \n",
            "13          UA  179 min    Action, Adventure, Drama          8.7   \n",
            "14           A  136 min              Action, Sci-Fi          8.7   \n",
            "15           A  146 min     Biography, Crime, Drama          8.7   \n",
            "16          UA  124 min  Action, Adventure, Fantasy          8.7   \n",
            "17           A  133 min                       Drama          8.7   \n",
            "18       PG-13  160 min   Biography, Drama, History          8.6   \n",
            "19           A  132 min     Comedy, Drama, Thriller          8.6   \n",
            "\n",
            "                                             Overview  Meta_score  \\\n",
            "0   Two imprisoned men bond over a number of years...        80.0   \n",
            "1   An organized crime dynasty's aging patriarch t...       100.0   \n",
            "2   When the menace known as the Joker wreaks havo...        84.0   \n",
            "3   The early life and career of Vito Corleone in ...        90.0   \n",
            "4   A jury holdout attempts to prevent a miscarria...        96.0   \n",
            "5   Gandalf and Aragorn lead the World of Men agai...        94.0   \n",
            "6   The lives of two mob hitmen, a boxer, a gangst...        94.0   \n",
            "7   In German-occupied Poland during World War II,...        94.0   \n",
            "8   A thief who steals corporate secrets through t...        74.0   \n",
            "9   An insomniac office worker and a devil-may-car...        66.0   \n",
            "10  A meek Hobbit from the Shire and eight compani...        92.0   \n",
            "11  The presidencies of Kennedy and Johnson, the e...        82.0   \n",
            "12  A bounty hunting scam joins two men in an unea...        90.0   \n",
            "13  While Frodo and Sam edge closer to Mordor with...        87.0   \n",
            "14  When a beautiful stranger leads computer hacke...        73.0   \n",
            "15  The story of Henry Hill and his life in the mo...        90.0   \n",
            "16  After the Rebels are brutally overpowered by t...        82.0   \n",
            "17  A criminal pleads insanity and is admitted to ...        83.0   \n",
            "18  The real life of one of America's foremost fou...        90.0   \n",
            "19  Greed and class discrimination threaten the ne...        96.0   \n",
            "\n",
            "                Director               Star1                 Star2  \\\n",
            "0         Frank Darabont         Tim Robbins        Morgan Freeman   \n",
            "1   Francis Ford Coppola       Marlon Brando             Al Pacino   \n",
            "2      Christopher Nolan      Christian Bale          Heath Ledger   \n",
            "3   Francis Ford Coppola           Al Pacino        Robert De Niro   \n",
            "4           Sidney Lumet         Henry Fonda           Lee J. Cobb   \n",
            "5          Peter Jackson         Elijah Wood       Viggo Mortensen   \n",
            "6      Quentin Tarantino       John Travolta           Uma Thurman   \n",
            "7       Steven Spielberg         Liam Neeson         Ralph Fiennes   \n",
            "8      Christopher Nolan   Leonardo DiCaprio  Joseph Gordon-Levitt   \n",
            "9          David Fincher           Brad Pitt         Edward Norton   \n",
            "10         Peter Jackson         Elijah Wood          Ian McKellen   \n",
            "11       Robert Zemeckis           Tom Hanks          Robin Wright   \n",
            "12          Sergio Leone      Clint Eastwood           Eli Wallach   \n",
            "13         Peter Jackson         Elijah Wood          Ian McKellen   \n",
            "14        Lana Wachowski     Lilly Wachowski          Keanu Reeves   \n",
            "15       Martin Scorsese      Robert De Niro            Ray Liotta   \n",
            "16        Irvin Kershner         Mark Hamill         Harrison Ford   \n",
            "17          Milos Forman      Jack Nicholson       Louise Fletcher   \n",
            "18           Thomas Kail  Lin-Manuel Miranda          Phillipa Soo   \n",
            "19          Bong Joon Ho        Kang-ho Song          Lee Sun-kyun   \n",
            "\n",
            "                 Star3                   Star4  No_of_Votes        Gross  \n",
            "0           Bob Gunton          William Sadler      2343110   28,341,469  \n",
            "1           James Caan            Diane Keaton      1620367  134,966,411  \n",
            "2        Aaron Eckhart           Michael Caine      2303232  534,858,444  \n",
            "3        Robert Duvall            Diane Keaton      1129952   57,300,000  \n",
            "4        Martin Balsam            John Fiedler       689845    4,360,000  \n",
            "5         Ian McKellen           Orlando Bloom      1642758  377,845,905  \n",
            "6    Samuel L. Jackson            Bruce Willis      1826188  107,928,762  \n",
            "7         Ben Kingsley        Caroline Goodall      1213505   96,898,818  \n",
            "8          Elliot Page            Ken Watanabe      2067042  292,576,195  \n",
            "9            Meat Loaf            Zach Grenier      1854740   37,030,102  \n",
            "10       Orlando Bloom               Sean Bean      1661481  315,544,750  \n",
            "11         Gary Sinise             Sally Field      1809221  330,252,182  \n",
            "12       Lee Van Cleef            Aldo Giuffrè       688390    6,100,000  \n",
            "13     Viggo Mortensen           Orlando Bloom      1485555  342,551,365  \n",
            "14  Laurence Fishburne        Carrie-Anne Moss      1676426  171,479,930  \n",
            "15           Joe Pesci         Lorraine Bracco      1020727   46,836,394  \n",
            "16       Carrie Fisher      Billy Dee Williams      1159315  290,475,067  \n",
            "17    Michael Berryman            Peter Brocco       918088  112,000,000  \n",
            "18     Leslie Odom Jr.  Renée Elise Goldsberry        55291          NaN  \n",
            "19       Cho Yeo-jeong            Choi Woo-sik       552778   53,367,844  \n"
          ]
        }
      ]
    },
    {
      "cell_type": "code",
      "source": [
        "#Eliminazione colonne inutili\n",
        "\n",
        "movies = movies.drop('Poster_Link', axis=1)"
      ],
      "metadata": {
        "id": "5MVkLKmn-q7B"
      },
      "execution_count": null,
      "outputs": []
    },
    {
      "cell_type": "markdown",
      "source": [
        "# Prova 1"
      ],
      "metadata": {
        "id": "d2TTqBHbp1eR"
      }
    },
    {
      "cell_type": "code",
      "source": [
        "#check null data\n",
        "print(movies.isnull().sum())\n"
      ],
      "metadata": {
        "colab": {
          "base_uri": "https://localhost:8080/"
        },
        "id": "dIElm8CdqEhw",
        "outputId": "e5633ff5-b589-4dfb-a82d-2a6a28846bab"
      },
      "execution_count": null,
      "outputs": [
        {
          "output_type": "stream",
          "name": "stdout",
          "text": [
            "Series_Title       0\n",
            "Released_Year      0\n",
            "Certificate      101\n",
            "Runtime            0\n",
            "Genre              0\n",
            "IMDB_Rating        0\n",
            "Overview           0\n",
            "Meta_score       157\n",
            "Director           0\n",
            "Star1              0\n",
            "Star2              0\n",
            "Star3              0\n",
            "Star4              0\n",
            "No_of_Votes        0\n",
            "Gross            169\n",
            "dtype: int64\n"
          ]
        }
      ]
    },
    {
      "cell_type": "markdown",
      "source": [
        "# Data cleaning prova 1: Eliminazione colonna Gross, eliminazione righe Certificate, media Meta_score"
      ],
      "metadata": {
        "id": "fDnaLeJeqPtQ"
      }
    },
    {
      "cell_type": "code",
      "source": [
        "movies = movies.dropna(axis=0, subset=['Certificate'])\n",
        "print(movies.isnull().sum())"
      ],
      "metadata": {
        "colab": {
          "base_uri": "https://localhost:8080/"
        },
        "id": "FYfaWEV1qaE4",
        "outputId": "7cf27a3c-13ce-455a-b07c-8e12cca106c4"
      },
      "execution_count": null,
      "outputs": [
        {
          "output_type": "stream",
          "name": "stdout",
          "text": [
            "Series_Title       0\n",
            "Released_Year      0\n",
            "Certificate        0\n",
            "Runtime            0\n",
            "Genre              0\n",
            "IMDB_Rating        0\n",
            "Overview           0\n",
            "Meta_score       112\n",
            "Director           0\n",
            "Star1              0\n",
            "Star2              0\n",
            "Star3              0\n",
            "Star4              0\n",
            "No_of_Votes        0\n",
            "Gross            114\n",
            "dtype: int64\n"
          ]
        }
      ]
    },
    {
      "cell_type": "code",
      "source": [
        "movies = movies.drop(\"Gross\", axis=1)\n",
        "print(movies.isnull().sum())"
      ],
      "metadata": {
        "colab": {
          "base_uri": "https://localhost:8080/"
        },
        "id": "xLnt9SO3uCFu",
        "outputId": "13bb881e-f180-494d-dbb7-20ed899aed0f"
      },
      "execution_count": null,
      "outputs": [
        {
          "output_type": "stream",
          "name": "stdout",
          "text": [
            "Series_Title       0\n",
            "Released_Year      0\n",
            "Certificate        0\n",
            "Runtime            0\n",
            "Genre              0\n",
            "IMDB_Rating        0\n",
            "Overview           0\n",
            "Meta_score       112\n",
            "Director           0\n",
            "Star1              0\n",
            "Star2              0\n",
            "Star3              0\n",
            "Star4              0\n",
            "No_of_Votes        0\n",
            "dtype: int64\n"
          ]
        }
      ]
    },
    {
      "cell_type": "code",
      "source": [
        "movies['Meta_score'] = movies['Meta_score'].fillna(movies['Meta_score'].mean())\n",
        "print(movies.isnull().sum())"
      ],
      "metadata": {
        "colab": {
          "base_uri": "https://localhost:8080/"
        },
        "id": "FxPi4GTOuqCe",
        "outputId": "c8af36a1-ea3d-4017-8826-0d1f3f34fcb1"
      },
      "execution_count": null,
      "outputs": [
        {
          "output_type": "stream",
          "name": "stdout",
          "text": [
            "Series_Title     0\n",
            "Released_Year    0\n",
            "Certificate      0\n",
            "Runtime          0\n",
            "Genre            0\n",
            "IMDB_Rating      0\n",
            "Overview         0\n",
            "Meta_score       0\n",
            "Director         0\n",
            "Star1            0\n",
            "Star2            0\n",
            "Star3            0\n",
            "Star4            0\n",
            "No_of_Votes      0\n",
            "dtype: int64\n"
          ]
        }
      ]
    },
    {
      "cell_type": "code",
      "source": [
        "#scatterplot prova 1\n",
        "\n",
        "movies.plot(x='IMDB_Rating', y='Meta_score', kind='scatter')\n",
        "plt.show()"
      ],
      "metadata": {
        "colab": {
          "base_uri": "https://localhost:8080/",
          "height": 280
        },
        "outputId": "4c3c5cda-d503-4598-ce70-a1db9f8002ee",
        "id": "snQw3Sz97IsU"
      },
      "execution_count": null,
      "outputs": [
        {
          "output_type": "display_data",
          "data": {
            "image/png": "[encoded data removed]",
            "text/plain": [
              "<Figure size 432x288 with 1 Axes>"
            ]
          },
          "metadata": {
            "needs_background": "light"
          }
        }
      ]
    },
    {
      "cell_type": "code",
      "source": [
        "#Riempimento tabella target con 60% 0 e 40% 1\n",
        "movies = movies.assign(target = 0)\n",
        "movies1 = movies\n",
        "movies1 = movies.sample(frac = 0.4, random_state=42).assign(target = 1)\n",
        "movies['target'] = movies1['target']\n",
        "movies['target'] = movies['target'].fillna(0)\n"
      ],
      "metadata": {
        "id": "XR5jy_LV4SFz"
      },
      "execution_count": null,
      "outputs": []
    },
    {
      "cell_type": "markdown",
      "source": [
        "#Ci limiteremo a dividere per 10 i valori di Meta_Score per dare loro la stessa valenza del paramentro IMDB_Score"
      ],
      "metadata": {
        "id": "gNAXa1ag4Se9"
      }
    },
    {
      "cell_type": "code",
      "metadata": {
        "id": "_FEi6mjh-n_J"
      },
      "source": [
        "##If you want to scale your data\n",
        "#from sklearn.preprocessing import MinMaxScaler\n",
        "\n",
        "##normalization \n",
        "#scl = MinMaxScaler(feature_range=(0, 1)) #you can use differnt range\n",
        "#X_train_res.columns[10] = scl.fit_transform(X_train_res)\n",
        "#x_test = scl.fit_transform(X_test)\n",
        "\n",
        "#print(X_train_res)\n",
        "\n",
        "\n"
      ],
      "execution_count": null,
      "outputs": []
    },
    {
      "cell_type": "code",
      "source": [
        "movies['Meta_score'] = movies['Meta_score']/10"
      ],
      "metadata": {
        "id": "4n9A680g4mb9"
      },
      "execution_count": null,
      "outputs": []
    },
    {
      "cell_type": "code",
      "source": [
        "#definizione variabile dipendente \n",
        "X= movies.iloc[ : , 0:13]\n",
        "y= movies.iloc[ : , 14]"
      ],
      "metadata": {
        "id": "j7uzhVEUuKdc"
      },
      "execution_count": null,
      "outputs": []
    },
    {
      "cell_type": "code",
      "source": [
        "from imblearn.over_sampling import SMOTE\n",
        "#Synthetic Minority Oversampling TEchnique - Oversampling technique that allows us to generate synthetic samples for our minority categories\n",
        "#NEVER BALANCE THE TEST SET!!!!!!!!\n",
        "\n",
        "from sklearn.model_selection import train_test_split\n",
        "\n",
        "X_train, X_test, y_train, y_test = train_test_split(X, y, test_size=0.2, random_state=42)\n",
        "\n",
        "print(\"Number transactions X_train dataset: \", X_train.shape)\n",
        "print(\"Number transactions y_train dataset: \", y_train.shape)\n",
        "print(\"Number transactions X_test dataset: \", X_test.shape)\n",
        "print(\"Number transactions y_test dataset: \", y_test.shape)"
      ],
      "metadata": {
        "id": "dJ42NANt9-8R",
        "colab": {
          "base_uri": "https://localhost:8080/"
        },
        "outputId": "4810eadc-bb49-47f5-c17a-1ec83b5e6014"
      },
      "execution_count": null,
      "outputs": [
        {
          "output_type": "stream",
          "name": "stdout",
          "text": [
            "Number transactions X_train dataset:  (719, 13)\n",
            "Number transactions y_train dataset:  (719,)\n",
            "Number transactions X_test dataset:  (180, 13)\n",
            "Number transactions y_test dataset:  (180,)\n"
          ]
        }
      ]
    },
    {
      "cell_type": "code",
      "source": [
        "from imblearn.under_sampling import RandomUnderSampler\n",
        "\n",
        "print(\"Before UnderSampling, counts of label '1': {}\".format(sum(y_train == 1)))\n",
        "print(\"Before UnderSampling, counts of label '0': {} \\n\".format(sum(y_train == 0)))\n",
        "\n",
        "sm = RandomUnderSampler(random_state=42)\n",
        "X_train_res, y_train_res = sm.fit_resample(X_train, y_train)"
      ],
      "metadata": {
        "colab": {
          "base_uri": "https://localhost:8080/"
        },
        "id": "3I_HpxXXv3fm",
        "outputId": "aeb88605-d31c-4d14-b11c-f039f88c6b00"
      },
      "execution_count": null,
      "outputs": [
        {
          "output_type": "stream",
          "name": "stdout",
          "text": [
            "Before UnderSampling, counts of label '1': 180\n",
            "Before UnderSampling, counts of label '0': 539 \n",
            "\n"
          ]
        }
      ]
    },
    {
      "cell_type": "code",
      "source": [
        "print(\"After OverSampling, counts of label '1': {}\".format(sum(y_train_res == 1)))\n",
        "print(\"After OverSampling, counts of label '0': {}\".format(sum(y_train_res == 0)))"
      ],
      "metadata": {
        "colab": {
          "base_uri": "https://localhost:8080/"
        },
        "id": "tmDj7spfwAm_",
        "outputId": "4a961dc3-449e-4406-9b27-4f17b9b3cff7"
      },
      "execution_count": null,
      "outputs": [
        {
          "output_type": "stream",
          "name": "stdout",
          "text": [
            "After OverSampling, counts of label '1': 180\n",
            "After OverSampling, counts of label '0': 180\n"
          ]
        }
      ]
    },
    {
      "cell_type": "code",
      "source": [
        "from sklearn.naive_bayes import CategoricalNB\n",
        "\n",
        "NB = CategoricalNB()\n",
        "\n",
        "NB.fit(X_train_res, y_train_res)\n",
        "\n",
        "predictions = NB.predict(X_test)\n",
        "\n",
        "print(confusion_matrix(y_test, predictions))\n",
        "\n",
        "#Overall, how often is the classifier correct?\n",
        "\n",
        "print(classification_report(y_test, predictions))"
      ],
      "metadata": {
        "id": "xv8CunAKAm1X"
      },
      "execution_count": null,
      "outputs": []
    },
    {
      "cell_type": "markdown",
      "source": [
        "#Abbiamo pensato di convertire le stringhe in variabili int categoriche, per poi convenvenire che il problema che ci stiamo ponendo non sia di classificazione ma di clustering."
      ],
      "metadata": {
        "id": "OK2mFaU8FEla"
      }
    }
  ]
}
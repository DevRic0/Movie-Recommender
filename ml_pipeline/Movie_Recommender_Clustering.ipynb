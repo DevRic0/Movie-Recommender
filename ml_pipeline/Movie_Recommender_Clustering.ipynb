{
  "nbformat": 4,
  "nbformat_minor": 0,
  "metadata": {
    "colab": {
      "name": "Movie_Recommender_Clustering.ipynb",
      "provenance": [],
      "collapsed_sections": [],
      "include_colab_link": true
    },
    "kernelspec": {
      "name": "python3",
      "display_name": "Python 3"
    },
    "language_info": {
      "name": "python"
    }
  },
  "cells": [
    {
      "cell_type": "markdown",
      "metadata": {
        "id": "view-in-github",
        "colab_type": "text"
      },
      "source": [
        "<a href=\"https://colab.research.google.com/github/FiddiCoder/-FIA-Project/blob/main/ml_pipeline/Movie_Recommender_Clustering.ipynb\" target=\"_parent\"><img src=\"https://colab.research.google.com/assets/colab-badge.svg\" alt=\"Open In Colab\"/></a>"
      ]
    },
    {
      "cell_type": "code",
      "execution_count": 126,
      "metadata": {
        "id": "hApke_Bfi-rj"
      },
      "outputs": [],
      "source": [
        "import pandas as pd\n",
        "import numpy as np\n",
        "import re\n",
        "from tqdm import tqdm_notebook as tqdm\n",
        "from PIL import Image\n",
        "import requests\n",
        "from io import BytesIO\n",
        "import matplotlib.pyplot as plt"
      ]
    },
    {
      "cell_type": "code",
      "source": [
        "import os\n",
        "import tarfile\n",
        "from six.moves import urllib\n",
        "\n",
        "#download dataset\n",
        "\n",
        "DOWNLOAD_ROOT = \"https://raw.githubusercontent.com/FiddiCoder/-FIA-Project/main/\"\n",
        "FILE_PATH = os.path.join(\"dataset\")\n",
        "FILE_URL1 = DOWNLOAD_ROOT + \"dataset/imdb_top_1000.csv\"\n",
        "\n",
        "def fetch_file_data1(file_url1=FILE_URL1, file_path1=FILE_PATH):\n",
        "    os.makedirs(file_path1, exist_ok=True)\n",
        "    csv_path1 = os.path.join(file_path1, \"imdb_top_1000.csv\")\n",
        "    urllib.request.urlretrieve(file_url1, csv_path1)\n",
        "\n",
        "fetch_file_data1()"
      ],
      "metadata": {
        "id": "XmN3k5hojFGE"
      },
      "execution_count": 127,
      "outputs": []
    },
    {
      "cell_type": "code",
      "source": [
        "#load data\n",
        "datapath = os.path.join(\"dataset\",\"\")\n",
        "imdb = pd.read_csv(datapath + \"imdb_top_1000.csv\")"
      ],
      "metadata": {
        "id": "Tr9M-rPbjH_s"
      },
      "execution_count": 128,
      "outputs": []
    },
    {
      "cell_type": "code",
      "source": [
        "#prova stampa\n",
        "imdb.head(10)"
      ],
      "metadata": {
        "id": "u7t8-CvRjIkD"
      },
      "execution_count": null,
      "outputs": []
    },
    {
      "cell_type": "code",
      "source": [
        "#download english stopwards (sinossi dei film in inglese)\n",
        "\n",
        "DOWNLOAD_ROOT = \"https://raw.githubusercontent.com/FiddiCoder/-FIA-Project/main/\"\n",
        "FILE_PATH = os.path.join(\"dataset\")\n",
        "FILE_URL1 = DOWNLOAD_ROOT + \"dataset/stopwords.txt\"\n",
        "\n",
        "def fetch_file_data1(file_url1=FILE_URL1, file_path1=FILE_PATH):\n",
        "    os.makedirs(file_path1, exist_ok=True)\n",
        "    csv_path1 = os.path.join(file_path1, \"stopwords.txt\")\n",
        "    urllib.request.urlretrieve(file_url1, csv_path1)\n",
        "\n",
        "fetch_file_data1()\n",
        "\n",
        "stopwords = open( datapath + \"stopwords.txt\")\n",
        "with open(datapath + \"stopwords.txt\", \"r\") as f:\n",
        "    stopwords = f.read().split(\"\\n\")"
      ],
      "metadata": {
        "id": "mj9rH9KLjKc3"
      },
      "execution_count": 130,
      "outputs": []
    },
    {
      "cell_type": "markdown",
      "source": [
        "#Contrariamente all'algoritmo di classificazione, ora sembra esserci il problema inverso: i dati numerici sembrano di poca rilevanza"
      ],
      "metadata": {
        "id": "4gHpKUjCS51t"
      }
    },
    {
      "cell_type": "markdown",
      "source": [
        "#Eliminazione colonne con dati numerici (Prova 1)"
      ],
      "metadata": {
        "id": "3RSm03vSVJPu"
      }
    },
    {
      "cell_type": "code",
      "source": [
        "imdb = imdb.drop(\"Gross\", axis=1)\n",
        "imdb = imdb.drop(\"Released_Year\", axis=1)\n",
        "imdb = imdb.drop(\"Poster_Link\", axis=1)\n",
        "imdb = imdb.drop(\"Runtime\", axis=1)\n",
        "imdb = imdb.drop(\"IMDB_Rating\", axis=1)\n",
        "imdb = imdb.drop(\"Meta_score\", axis=1)\n",
        "imdb = imdb.drop(\"No_of_Votes\", axis=1)\n",
        "imdb = imdb.drop(\"Certificate\", axis=1) #stringa che ha scarsa rilevanza"
      ],
      "metadata": {
        "id": "RXBfD3KUVRIu"
      },
      "execution_count": 131,
      "outputs": []
    },
    {
      "cell_type": "code",
      "source": [
        "imdb.head(10)"
      ],
      "metadata": {
        "id": "1V6REG_9radM"
      },
      "execution_count": null,
      "outputs": []
    },
    {
      "cell_type": "code",
      "source": [
        "#creazione lista che contiene le parole principali utili all'algoritmo\n",
        "def crea_lista(row):\n",
        "    stars = row[[\"Star1\",\"Star2\",\"Star3\",\"Star4\"]].to_list()\n",
        "    lista = \" \".join(row[\"Series_Title\"].split() + row[\"Genre\"].split() + row[\"Overview\"].split() + row[\"Director\"].split() + stars )\n",
        "    #regex che elimina caratteri inutili\n",
        "    lista = re.sub(r'[^\\w\\s]', '', lista)\n",
        "    #rimozione stopwords\n",
        "    wordlist = lista.split()\n",
        "    for word in wordlist:\n",
        "        if word in stopwords:\n",
        "            lista = lista.replace(\" \"+word+\" \", \" \")\n",
        "    \n",
        "    return lista"
      ],
      "metadata": {
        "id": "h26Rvtz0N8Y4"
      },
      "execution_count": 133,
      "outputs": []
    },
    {
      "cell_type": "code",
      "source": [
        "imdb[\"target\"] = imdb.apply(crea_lista, axis=1) # metodo apply di pandas permette di applicare la funzione crea_lista ad ogni riga, creando una nuova colonna nel dataset\n",
        "print(imdb.loc[0, 'target'])"
      ],
      "metadata": {
        "id": "G3BNsrieRNyz"
      },
      "execution_count": null,
      "outputs": []
    },
    {
      "cell_type": "code",
      "source": [
        "def jaccard_similarity(list1, list2):\n",
        "    s1 = set(list1)\n",
        "    s2 = set(list2)\n",
        "    return float(len(s1.intersection(s2)) / len(s1.union(s2)))\n",
        "list1 = imdb.loc[0, 'target'].split() \n",
        "list2 = imdb.loc[1, 'target'].split()\n",
        "print(list1)\n",
        "print(list2)\n",
        "jaccard_similarity(list1, list2)\n",
        "\n"
      ],
      "metadata": {
        "colab": {
          "base_uri": "https://localhost:8080/"
        },
        "id": "_pDArs0gloFS",
        "outputId": "9ffd54f6-05d5-4064-a515-6aa542aaff46"
      },
      "execution_count": 138,
      "outputs": [
        {
          "output_type": "stream",
          "name": "stdout",
          "text": [
            "['The', 'Shawshank', 'Redemption', 'Drama', 'Two', 'imprisoned', 'men', 'bond', 'number', 'years', 'finding', 'solace', 'eventual', 'redemption', 'acts', 'common', 'decency', 'Frank', 'Darabont', 'Tim', 'Robbins', 'Morgan', 'Freeman', 'Bob', 'Gunton', 'William', 'Sadler']\n",
            "['The', 'Godfather', 'Crime', 'Drama', 'An', 'organized', 'crime', 'dynastys', 'aging', 'patriarch', 'transfers', 'control', 'clandestine', 'empire', 'reluctant', 'son', 'Francis', 'Ford', 'Coppola', 'Marlon', 'Brando', 'Al', 'Pacino', 'James', 'Caan', 'Diane', 'Keaton']\n"
          ]
        },
        {
          "output_type": "execute_result",
          "data": {
            "text/plain": [
              "0.038461538461538464"
            ]
          },
          "metadata": {},
          "execution_count": 138
        }
      ]
    }
  ]
}
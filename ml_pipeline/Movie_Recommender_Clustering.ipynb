{
  "nbformat": 4,
  "nbformat_minor": 0,
  "metadata": {
    "colab": {
      "name": "Movie_Recommender_Clustering.ipynb",
      "provenance": [],
      "collapsed_sections": [],
      "include_colab_link": true
    },
    "kernelspec": {
      "name": "python3",
      "display_name": "Python 3"
    },
    "language_info": {
      "name": "python"
    }
  },
  "cells": [
    {
      "cell_type": "markdown",
      "metadata": {
        "id": "view-in-github",
        "colab_type": "text"
      },
      "source": [
        "<a href=\"https://colab.research.google.com/github/FiddiCoder/-FIA-Project/blob/main/ml_pipeline/Movie_Recommender_Clustering.ipynb\" target=\"_parent\"><img src=\"https://colab.research.google.com/assets/colab-badge.svg\" alt=\"Open In Colab\"/></a>"
      ]
    },
    {
      "cell_type": "code",
      "execution_count": null,
      "metadata": {
        "id": "hApke_Bfi-rj"
      },
      "outputs": [],
      "source": [
        "import pandas as pd\n",
        "import numpy as np\n",
        "import re\n",
        "from tqdm import tqdm_notebook as tqdm\n",
        "from PIL import Image\n",
        "import requests\n",
        "from io import BytesIO\n",
        "import matplotlib.pyplot as plt"
      ]
    },
    {
      "cell_type": "code",
      "source": [
        "import os\n",
        "import tarfile\n",
        "from six.moves import urllib\n",
        "\n",
        "#download dataset\n",
        "\n",
        "DOWNLOAD_ROOT = \"https://raw.githubusercontent.com/FiddiCoder/-FIA-Project/main/\"\n",
        "FILE_PATH = os.path.join(\"dataset\")\n",
        "FILE_URL1 = DOWNLOAD_ROOT + \"dataset/imdb_top_1000.csv\"\n",
        "\n",
        "def fetch_file_data1(file_url1=FILE_URL1, file_path1=FILE_PATH):\n",
        "    os.makedirs(file_path1, exist_ok=True)\n",
        "    csv_path1 = os.path.join(file_path1, \"imdb_top_1000.csv\")\n",
        "    urllib.request.urlretrieve(file_url1, csv_path1)\n",
        "\n",
        "fetch_file_data1()"
      ],
      "metadata": {
        "id": "XmN3k5hojFGE"
      },
      "execution_count": null,
      "outputs": []
    },
    {
      "cell_type": "code",
      "source": [
        "#load our data\n",
        "datapath = os.path.join(\"dataset\",\"\")\n",
        "imdb = pd.read_csv(datapath + \"imdb_top_1000.csv\")"
      ],
      "metadata": {
        "id": "Tr9M-rPbjH_s"
      },
      "execution_count": null,
      "outputs": []
    },
    {
      "cell_type": "code",
      "source": [
        "#prova stampa\n",
        "imdb.head(10)"
      ],
      "metadata": {
        "id": "u7t8-CvRjIkD"
      },
      "execution_count": null,
      "outputs": []
    },
    {
      "cell_type": "code",
      "source": [
        "#download english stopwards (sinossi dei film in inglese)\n",
        "\n",
        "DOWNLOAD_ROOT = \"https://raw.githubusercontent.com/FiddiCoder/-FIA-Project/main/\"\n",
        "FILE_PATH = os.path.join(\"dataset\")\n",
        "FILE_URL1 = DOWNLOAD_ROOT + \"dataset/stopwords.txt\"\n",
        "\n",
        "def fetch_file_data1(file_url1=FILE_URL1, file_path1=FILE_PATH):\n",
        "    os.makedirs(file_path1, exist_ok=True)\n",
        "    csv_path1 = os.path.join(file_path1, \"stopwords.txt\")\n",
        "    urllib.request.urlretrieve(file_url1, csv_path1)\n",
        "\n",
        "fetch_file_data1()\n",
        "\n",
        "stopwords = open( datapath + \"stopwords.txt\")\n",
        "with open(datapath + \"stopwords.txt\", \"r\") as f:\n",
        "    stopwords = f.read().split(\"\\n\")"
      ],
      "metadata": {
        "id": "mj9rH9KLjKc3"
      },
      "execution_count": null,
      "outputs": []
    },
    {
      "cell_type": "code",
      "source": [
        "#creazione lista che contiene le parole principali utili all'algoritmo\n",
        "def crea_lista(row):\n",
        "    stars = row[[\"Star1\",\"Star2\",\"Star3\",\"Star4\"]].to_list()\n",
        "    lista = \" \".join(row[\"Series_Title\"].split()*2 + row[\"Genre\"].split()*3 + row[\"Overview\"].split() + row[\"Director\"].split()*2 + stars*2 )\n",
        "    print(stars)\n",
        "    print(lista)\n",
        "    # removing unwanted characters\n",
        "    lista = re.sub(r'[^\\w\\s]', '', lista)\n",
        "        # removing stopwords from the lista\n",
        "    print(lista)\n",
        "    wordlist = lista.split()\n",
        "    for word in wordlist:\n",
        "        if word in stopwords:\n",
        "            lista = lista.replace(\" \"+word+\" \", \" \")\n",
        "    \n",
        "    print(lista)\n",
        "crea_lista(imdb.loc[0])\n"
      ],
      "metadata": {
        "colab": {
          "base_uri": "https://localhost:8080/"
        },
        "id": "h26Rvtz0N8Y4",
        "outputId": "eb9398d3-ee87-4157-b96b-e014c9ed2cd1"
      },
      "execution_count": null,
      "outputs": [
        {
          "output_type": "stream",
          "name": "stdout",
          "text": [
            "['Tim Robbins', 'Morgan Freeman', 'Bob Gunton', 'William Sadler']\n",
            "The Shawshank Redemption The Shawshank Redemption Drama Drama Drama Two imprisoned men bond over a number of years, finding solace and eventual redemption through acts of common decency. Frank Darabont Frank Darabont Tim Robbins Morgan Freeman Bob Gunton William Sadler Tim Robbins Morgan Freeman Bob Gunton William Sadler\n",
            "The Shawshank Redemption The Shawshank Redemption Drama Drama Drama Two imprisoned men bond over a number of years finding solace and eventual redemption through acts of common decency Frank Darabont Frank Darabont Tim Robbins Morgan Freeman Bob Gunton William Sadler Tim Robbins Morgan Freeman Bob Gunton William Sadler\n",
            "The Shawshank Redemption The Shawshank Redemption Drama Drama Drama Two imprisoned men bond number years finding solace eventual redemption acts common decency Frank Darabont Frank Darabont Tim Robbins Morgan Freeman Bob Gunton William Sadler Tim Robbins Morgan Freeman Bob Gunton William Sadler\n"
          ]
        }
      ]
    }
  ]
}
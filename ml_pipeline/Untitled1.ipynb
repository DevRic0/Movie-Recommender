{
  "nbformat": 4,
  "nbformat_minor": 0,
  "metadata": {
    "colab": {
      "name": "Untitled1.ipynb",
      "provenance": [],
      "collapsed_sections": [],
      "toc_visible": true,
      "include_colab_link": true
    },
    "kernelspec": {
      "name": "python3",
      "display_name": "Python 3"
    },
    "language_info": {
      "name": "python"
    }
  },
  "cells": [
    {
      "cell_type": "markdown",
      "metadata": {
        "id": "view-in-github",
        "colab_type": "text"
      },
      "source": [
        "<a href=\"https://colab.research.google.com/github/FiddiCoder/-FIA-Project/blob/main/ml_pipeline/Untitled1.ipynb\" target=\"_parent\"><img src=\"https://colab.research.google.com/assets/colab-badge.svg\" alt=\"Open In Colab\"/></a>"
      ]
    },
    {
      "cell_type": "code",
      "execution_count": null,
      "metadata": {
        "id": "tmOGjJuIPGOn"
      },
      "outputs": [],
      "source": [
        "# To support both python 2 and python 3\n",
        "from __future__ import division, print_function, unicode_literals\n",
        "\n",
        "# Common imports\n",
        "#as rename \n",
        "import numpy as np\n",
        "import os\n",
        "import matplotlib.pyplot as plt\n",
        "import pandas as pd"
      ]
    },
    {
      "cell_type": "code",
      "source": [
        "import os\n",
        "import tarfile\n",
        "from six.moves import urllib\n",
        "\n",
        "DOWNLOAD_ROOT = \"https://raw.githubusercontent.com/FiddiCoder/-FIA-Project/main/\"\n",
        "FILE_PATH = os.path.join(\"dataset\")\n",
        "FILE_URL1 = DOWNLOAD_ROOT + \"dataset/imdb_top_1000.csv\"\n",
        "\n",
        "def fetch_file_data1(file_url1=FILE_URL1, file_path1=FILE_PATH):\n",
        "    os.makedirs(file_path1, exist_ok=True)\n",
        "    csv_path1 = os.path.join(file_path1, \"imdb_top_1000.csv\")\n",
        "    urllib.request.urlretrieve(file_url1, csv_path1)\n",
        "\n",
        "fetch_file_data1()"
      ],
      "metadata": {
        "id": "o_eJ8BN7fchx"
      },
      "execution_count": null,
      "outputs": []
    },
    {
      "cell_type": "code",
      "source": [
        "#load our data\n",
        "datapath = os.path.join(\"dataset\",\"\")\n",
        "movies = pd.read_csv(datapath + \"imdb_top_1000.csv\")"
      ],
      "metadata": {
        "id": "Jf9N_gHagA7S"
      },
      "execution_count": null,
      "outputs": []
    },
    {
      "cell_type": "code",
      "source": [
        "#distribution of data\n",
        "print(movies.describe())"
      ],
      "metadata": {
        "id": "UGN3BRlWiy4j",
        "outputId": "ed15f14f-09b0-4c63-a161-5bb62925e257",
        "colab": {
          "base_uri": "https://localhost:8080/"
        }
      },
      "execution_count": null,
      "outputs": [
        {
          "output_type": "stream",
          "name": "stdout",
          "text": [
            "       IMDB_Rating  Meta_score   No_of_Votes\n",
            "count  1000.000000  843.000000  1.000000e+03\n",
            "mean      7.949300   77.971530  2.736929e+05\n",
            "std       0.275491   12.376099  3.273727e+05\n",
            "min       7.600000   28.000000  2.508800e+04\n",
            "25%       7.700000   70.000000  5.552625e+04\n",
            "50%       7.900000   79.000000  1.385485e+05\n",
            "75%       8.100000   87.000000  3.741612e+05\n",
            "max       9.300000  100.000000  2.343110e+06\n"
          ]
        }
      ]
    },
    {
      "cell_type": "code",
      "source": [
        "print(movies.head(20))"
      ],
      "metadata": {
        "id": "StI2HbYKjkuD",
        "outputId": "67cc9183-699c-46b4-909f-2fa98de9e3ff",
        "colab": {
          "base_uri": "https://localhost:8080/"
        }
      },
      "execution_count": 23,
      "outputs": [
        {
          "output_type": "stream",
          "name": "stdout",
          "text": [
            "                                          Poster_Link  ...        Gross\n",
            "0   https://m.media-amazon.com/images/M/MV5BMDFkYT...  ...   28,341,469\n",
            "1   https://m.media-amazon.com/images/M/MV5BM2MyNj...  ...  134,966,411\n",
            "2   https://m.media-amazon.com/images/M/MV5BMTMxNT...  ...  534,858,444\n",
            "3   https://m.media-amazon.com/images/M/MV5BMWMwMG...  ...   57,300,000\n",
            "4   https://m.media-amazon.com/images/M/MV5BMWU4N2...  ...    4,360,000\n",
            "5   https://m.media-amazon.com/images/M/MV5BNzA5ZD...  ...  377,845,905\n",
            "6   https://m.media-amazon.com/images/M/MV5BNGNhMD...  ...  107,928,762\n",
            "7   https://m.media-amazon.com/images/M/MV5BNDE4OT...  ...   96,898,818\n",
            "8   https://m.media-amazon.com/images/M/MV5BMjAxMz...  ...  292,576,195\n",
            "9   https://m.media-amazon.com/images/M/MV5BMmEzNT...  ...   37,030,102\n",
            "10  https://m.media-amazon.com/images/M/MV5BN2EyZj...  ...  315,544,750\n",
            "11  https://m.media-amazon.com/images/M/MV5BNWIwOD...  ...  330,252,182\n",
            "12  https://m.media-amazon.com/images/M/MV5BOTQ5ND...  ...    6,100,000\n",
            "13  https://m.media-amazon.com/images/M/MV5BZGMxZT...  ...  342,551,365\n",
            "14  https://m.media-amazon.com/images/M/MV5BNzQzOT...  ...  171,479,930\n",
            "15  https://m.media-amazon.com/images/M/MV5BY2NkZj...  ...   46,836,394\n",
            "16  https://m.media-amazon.com/images/M/MV5BYmU1ND...  ...  290,475,067\n",
            "17  https://m.media-amazon.com/images/M/MV5BZjA0OW...  ...  112,000,000\n",
            "18  https://m.media-amazon.com/images/M/MV5BNjViNW...  ...          NaN\n",
            "19  https://m.media-amazon.com/images/M/MV5BYWZjMj...  ...   53,367,844\n",
            "\n",
            "[20 rows x 16 columns]\n"
          ]
        }
      ]
    },
    {
      "cell_type": "markdown",
      "source": [
        "#Scarsa correlazione tra voto di critica e pubblico, di conseguenza inutile fare clustering, ci limiteremo a fare una media flat dei valori di Metascore che sino null."
      ],
      "metadata": {
        "id": "65fCVepioSSq"
      }
    },
    {
      "cell_type": "code",
      "source": [
        "#scatterplot\n",
        "\n",
        "movies.plot(x='IMDB_Rating', y='Meta_score', kind='scatter')\n",
        "plt.show()"
      ],
      "metadata": {
        "colab": {
          "base_uri": "https://localhost:8080/",
          "height": 280
        },
        "id": "VVSRtxFAoY0H",
        "outputId": "6a0db012-cbf4-4bcf-c90c-c04de99c4369"
      },
      "execution_count": 22,
      "outputs": [
        {
          "output_type": "display_data",
          "data": {
            "image/png": "[encoded data removed]",
            "text/plain": [
              "<Figure size 432x288 with 1 Axes>"
            ]
          },
          "metadata": {
            "needs_background": "light"
          }
        }
      ]
    }
  ]
}
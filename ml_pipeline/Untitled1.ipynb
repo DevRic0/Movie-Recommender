{
  "nbformat": 4,
  "nbformat_minor": 0,
  "metadata": {
    "colab": {
      "name": "Untitled1.ipynb",
      "provenance": [],
      "collapsed_sections": [],
      "toc_visible": true,
      "include_colab_link": true
    },
    "kernelspec": {
      "name": "python3",
      "display_name": "Python 3"
    },
    "language_info": {
      "name": "python"
    }
  },
  "cells": [
    {
      "cell_type": "markdown",
      "metadata": {
        "id": "view-in-github",
        "colab_type": "text"
      },
      "source": [
        "<a href=\"https://colab.research.google.com/github/FiddiCoder/-FIA-Project/blob/main/ml_pipeline/Untitled1.ipynb\" target=\"_parent\"><img src=\"https://colab.research.google.com/assets/colab-badge.svg\" alt=\"Open In Colab\"/></a>"
      ]
    },
    {
      "cell_type": "code",
      "execution_count": 1,
      "metadata": {
        "id": "tmOGjJuIPGOn"
      },
      "outputs": [],
      "source": [
        "# To support both python 2 and python 3\n",
        "from __future__ import division, print_function, unicode_literals\n",
        "\n",
        "# Common imports\n",
        "#as rename \n",
        "import numpy as np\n",
        "import os\n",
        "import matplotlib.pyplot as plt\n",
        "import pandas as pd"
      ]
    },
    {
      "cell_type": "code",
      "source": [
        "import os\n",
        "import tarfile\n",
        "from six.moves import urllib\n",
        "\n",
        "DOWNLOAD_ROOT = \"https://raw.githubusercontent.com/FiddiCoder/-FIA-Project/main/\"\n",
        "FILE_PATH = os.path.join(\"dataset\")\n",
        "FILE_URL1 = DOWNLOAD_ROOT + \"dataset/imdb_top_1000.csv\"\n",
        "\n",
        "def fetch_file_data1(file_url1=FILE_URL1, file_path1=FILE_PATH):\n",
        "    os.makedirs(file_path1, exist_ok=True)\n",
        "    csv_path1 = os.path.join(file_path1, \"imdb_top_1000.csv\")\n",
        "    urllib.request.urlretrieve(file_url1, csv_path1)\n",
        "\n",
        "fetch_file_data1()"
      ],
      "metadata": {
        "id": "o_eJ8BN7fchx"
      },
      "execution_count": 2,
      "outputs": []
    },
    {
      "cell_type": "code",
      "source": [
        "#load our data\n",
        "datapath = os.path.join(\"dataset\",\"\")\n",
        "movies = pd.read_csv(datapath + \"imdb_top_1000.csv\")"
      ],
      "metadata": {
        "id": "Jf9N_gHagA7S"
      },
      "execution_count": 3,
      "outputs": []
    },
    {
      "cell_type": "code",
      "source": [
        "#distribution of data\n",
        "print(movies.describe())"
      ],
      "metadata": {
        "id": "UGN3BRlWiy4j",
        "outputId": "d9465894-c00b-456b-fc98-abccbf2dfd4c",
        "colab": {
          "base_uri": "https://localhost:8080/"
        }
      },
      "execution_count": null,
      "outputs": [
        {
          "output_type": "stream",
          "name": "stdout",
          "text": [
            "       IMDB_Rating  Meta_score   No_of_Votes\n",
            "count  1000.000000  843.000000  1.000000e+03\n",
            "mean      7.949300   77.971530  2.736929e+05\n",
            "std       0.275491   12.376099  3.273727e+05\n",
            "min       7.600000   28.000000  2.508800e+04\n",
            "25%       7.700000   70.000000  5.552625e+04\n",
            "50%       7.900000   79.000000  1.385485e+05\n",
            "75%       8.100000   87.000000  3.741612e+05\n",
            "max       9.300000  100.000000  2.343110e+06\n"
          ]
        }
      ]
    },
    {
      "cell_type": "markdown",
      "source": [
        "#Scarsa correlazione tra voto di critica e pubblico, di conseguenza inutile fare clustering, ci limiteremo a fare una media flat dei valori null Metascore."
      ],
      "metadata": {
        "id": "65fCVepioSSq"
      }
    },
    {
      "cell_type": "code",
      "source": [
        "#scatterplot\n",
        "\n",
        "movies.plot(x='IMDB_Rating', y='Meta_score', kind='scatter')\n",
        "plt.show()"
      ],
      "metadata": {
        "colab": {
          "base_uri": "https://localhost:8080/",
          "height": 280
        },
        "id": "VVSRtxFAoY0H",
        "outputId": "55df71e0-081b-4cb2-fe5d-6bb52526261a"
      },
      "execution_count": null,
      "outputs": [
        {
          "output_type": "display_data",
          "data": {
            "image/png": "[encoded data removed]",
            "text/plain": [
              "<Figure size 432x288 with 1 Axes>"
            ]
          },
          "metadata": {
            "needs_background": "light"
          }
        }
      ]
    },
    {
      "cell_type": "code",
      "source": [
        "#start to look into missing data\n",
        "print(movies.head(20))\n",
        "pd.set_option('display.max_columns', None)\n",
        "pd.set_option('display.max_rows', None)"
      ],
      "metadata": {
        "id": "OyDXXHYglwwd"
      },
      "execution_count": null,
      "outputs": []
    },
    {
      "cell_type": "code",
      "source": [
        "#Eliminazione colonne inutili\n",
        "\n",
        "movies = movies.drop('Poster_Link', axis=1)"
      ],
      "metadata": {
        "id": "5MVkLKmn-q7B"
      },
      "execution_count": 4,
      "outputs": []
    },
    {
      "cell_type": "markdown",
      "source": [
        "# Prova 1"
      ],
      "metadata": {
        "id": "d2TTqBHbp1eR"
      }
    },
    {
      "cell_type": "code",
      "source": [
        "#check null data\n",
        "print(movies.isnull().sum())\n"
      ],
      "metadata": {
        "colab": {
          "base_uri": "https://localhost:8080/"
        },
        "id": "dIElm8CdqEhw",
        "outputId": "2f59e43a-43b6-4718-a1ec-66c5d659d3da"
      },
      "execution_count": 5,
      "outputs": [
        {
          "output_type": "stream",
          "name": "stdout",
          "text": [
            "Series_Title       0\n",
            "Released_Year      0\n",
            "Certificate      101\n",
            "Runtime            0\n",
            "Genre              0\n",
            "IMDB_Rating        0\n",
            "Overview           0\n",
            "Meta_score       157\n",
            "Director           0\n",
            "Star1              0\n",
            "Star2              0\n",
            "Star3              0\n",
            "Star4              0\n",
            "No_of_Votes        0\n",
            "Gross            169\n",
            "dtype: int64\n"
          ]
        }
      ]
    },
    {
      "cell_type": "markdown",
      "source": [
        "# Data cleaning prova 1: Eliminazione colonna Gross, eliminazione righe Certificate, media Meta_score"
      ],
      "metadata": {
        "id": "fDnaLeJeqPtQ"
      }
    },
    {
      "cell_type": "code",
      "source": [
        "movies = movies.dropna(axis=0, subset=['Certificate'])\n",
        "print(movies.isnull().sum())"
      ],
      "metadata": {
        "colab": {
          "base_uri": "https://localhost:8080/"
        },
        "id": "FYfaWEV1qaE4",
        "outputId": "af2c5fb7-f896-459a-babd-dc9ccc77f22d"
      },
      "execution_count": 6,
      "outputs": [
        {
          "output_type": "stream",
          "name": "stdout",
          "text": [
            "Series_Title       0\n",
            "Released_Year      0\n",
            "Certificate        0\n",
            "Runtime            0\n",
            "Genre              0\n",
            "IMDB_Rating        0\n",
            "Overview           0\n",
            "Meta_score       112\n",
            "Director           0\n",
            "Star1              0\n",
            "Star2              0\n",
            "Star3              0\n",
            "Star4              0\n",
            "No_of_Votes        0\n",
            "Gross            114\n",
            "dtype: int64\n"
          ]
        }
      ]
    },
    {
      "cell_type": "code",
      "source": [
        "movies = movies.drop(\"Gross\", axis=1)\n",
        "print(movies.isnull().sum())"
      ],
      "metadata": {
        "colab": {
          "base_uri": "https://localhost:8080/"
        },
        "id": "xLnt9SO3uCFu",
        "outputId": "68c18aaf-8e62-4121-f548-cfc6466f34cc"
      },
      "execution_count": 7,
      "outputs": [
        {
          "output_type": "stream",
          "name": "stdout",
          "text": [
            "Series_Title       0\n",
            "Released_Year      0\n",
            "Certificate        0\n",
            "Runtime            0\n",
            "Genre              0\n",
            "IMDB_Rating        0\n",
            "Overview           0\n",
            "Meta_score       112\n",
            "Director           0\n",
            "Star1              0\n",
            "Star2              0\n",
            "Star3              0\n",
            "Star4              0\n",
            "No_of_Votes        0\n",
            "dtype: int64\n"
          ]
        }
      ]
    },
    {
      "cell_type": "code",
      "source": [
        "movies['Meta_score'] = movies['Meta_score'].fillna(movies['Meta_score'].mean())\n",
        "print(movies.isnull().sum())"
      ],
      "metadata": {
        "colab": {
          "base_uri": "https://localhost:8080/"
        },
        "id": "FxPi4GTOuqCe",
        "outputId": "dbfdf890-5cf6-48dd-a065-8c20d367d001"
      },
      "execution_count": 8,
      "outputs": [
        {
          "output_type": "stream",
          "name": "stdout",
          "text": [
            "Series_Title     0\n",
            "Released_Year    0\n",
            "Certificate      0\n",
            "Runtime          0\n",
            "Genre            0\n",
            "IMDB_Rating      0\n",
            "Overview         0\n",
            "Meta_score       0\n",
            "Director         0\n",
            "Star1            0\n",
            "Star2            0\n",
            "Star3            0\n",
            "Star4            0\n",
            "No_of_Votes      0\n",
            "dtype: int64\n"
          ]
        }
      ]
    },
    {
      "cell_type": "code",
      "source": [
        "#scatterplot prova 1\n",
        "\n",
        "movies.plot(x='IMDB_Rating', y='Meta_score', kind='scatter')\n",
        "plt.show()"
      ],
      "metadata": {
        "colab": {
          "base_uri": "https://localhost:8080/",
          "height": 280
        },
        "outputId": "ae5ae562-7b0c-414a-ee0f-2e38f6cf838a",
        "id": "snQw3Sz97IsU"
      },
      "execution_count": null,
      "outputs": [
        {
          "output_type": "display_data",
          "data": {
            "image/png": "[encoded data removed]",
            "text/plain": [
              "<Figure size 432x288 with 1 Axes>"
            ]
          },
          "metadata": {
            "needs_background": "light"
          }
        }
      ]
    },
    {
      "cell_type": "code",
      "source": [
        "movies = movies.assign(target = 0)\n",
        "movies1 = movies\n",
        "movies1 = movies.sample(frac = 0.4).assign(target = 1)\n",
        "movies['target'] = movies1['target']\n",
        "movies['target'] = movies['target'].fillna(0)\n"
      ],
      "metadata": {
        "id": "XR5jy_LV4SFz"
      },
      "execution_count": 14,
      "outputs": []
    },
    {
      "cell_type": "code",
      "source": [
        "print(movies.head(100))"
      ],
      "metadata": {
        "colab": {
          "base_uri": "https://localhost:8080/"
        },
        "id": "dJ42NANt9-8R",
        "outputId": "ea9c14fc-93ac-475e-fa35-21e614647b9d"
      },
      "execution_count": 15,
      "outputs": [
        {
          "output_type": "stream",
          "name": "stdout",
          "text": [
            "                 Series_Title Released_Year Certificate  Runtime  \\\n",
            "0    The Shawshank Redemption          1994           A  142 min   \n",
            "1               The Godfather          1972           A  175 min   \n",
            "2             The Dark Knight          2008          UA  152 min   \n",
            "3      The Godfather: Part II          1974           A  202 min   \n",
            "4                12 Angry Men          1957           U   96 min   \n",
            "..                        ...           ...         ...      ...   \n",
            "99          Good Will Hunting          1997           U  126 min   \n",
            "100         Bacheha-Ye aseman          1997          PG   89 min   \n",
            "101                 Toy Story          1995           U   81 min   \n",
            "102                Braveheart          1995           A  178 min   \n",
            "103            Reservoir Dogs          1992           R   99 min   \n",
            "\n",
            "                            Genre  IMDB_Rating  \\\n",
            "0                           Drama          9.3   \n",
            "1                    Crime, Drama          9.2   \n",
            "2            Action, Crime, Drama          9.0   \n",
            "3                    Crime, Drama          9.0   \n",
            "4                    Crime, Drama          9.0   \n",
            "..                            ...          ...   \n",
            "99                 Drama, Romance          8.3   \n",
            "100          Drama, Family, Sport          8.3   \n",
            "101  Animation, Adventure, Comedy          8.3   \n",
            "102     Biography, Drama, History          8.3   \n",
            "103        Crime, Drama, Thriller          8.3   \n",
            "\n",
            "                                              Overview  Meta_score  \\\n",
            "0    Two imprisoned men bond over a number of years...        80.0   \n",
            "1    An organized crime dynasty's aging patriarch t...       100.0   \n",
            "2    When the menace known as the Joker wreaks havo...        84.0   \n",
            "3    The early life and career of Vito Corleone in ...        90.0   \n",
            "4    A jury holdout attempts to prevent a miscarria...        96.0   \n",
            "..                                                 ...         ...   \n",
            "99   Will Hunting, a janitor at M.I.T., has a gift ...        70.0   \n",
            "100  After a boy loses his sister's pair of shoes, ...        77.0   \n",
            "101  A cowboy doll is profoundly threatened and jea...        95.0   \n",
            "102  Scottish warrior William Wallace leads his cou...        68.0   \n",
            "103  When a simple jewelry heist goes horribly wron...        79.0   \n",
            "\n",
            "                 Director               Star1                   Star2  \\\n",
            "0          Frank Darabont         Tim Robbins          Morgan Freeman   \n",
            "1    Francis Ford Coppola       Marlon Brando               Al Pacino   \n",
            "2       Christopher Nolan      Christian Bale            Heath Ledger   \n",
            "3    Francis Ford Coppola           Al Pacino          Robert De Niro   \n",
            "4            Sidney Lumet         Henry Fonda             Lee J. Cobb   \n",
            "..                    ...                 ...                     ...   \n",
            "99           Gus Van Sant      Robin Williams              Matt Damon   \n",
            "100          Majid Majidi  Mohammad Amir Naji  Amir Farrokh Hashemian   \n",
            "101         John Lasseter           Tom Hanks               Tim Allen   \n",
            "102            Mel Gibson          Mel Gibson          Sophie Marceau   \n",
            "103     Quentin Tarantino       Harvey Keitel                Tim Roth   \n",
            "\n",
            "                Star3                   Star4  No_of_Votes  target  \n",
            "0          Bob Gunton          William Sadler      2343110     0.0  \n",
            "1          James Caan            Diane Keaton      1620367     1.0  \n",
            "2       Aaron Eckhart           Michael Caine      2303232     1.0  \n",
            "3       Robert Duvall            Diane Keaton      1129952     0.0  \n",
            "4       Martin Balsam            John Fiedler       689845     1.0  \n",
            "..                ...                     ...          ...     ...  \n",
            "99        Ben Affleck       Stellan Skarsgård       861606     0.0  \n",
            "100    Bahare Seddiqi  Nafise Jafar-Mohammadi        65341     1.0  \n",
            "101       Don Rickles              Jim Varney       887429     0.0  \n",
            "102  Patrick McGoohan         Angus Macfadyen       959181     0.0  \n",
            "103    Michael Madsen              Chris Penn       918562     0.0  \n",
            "\n",
            "[100 rows x 15 columns]\n"
          ]
        }
      ]
    }
  ]
}
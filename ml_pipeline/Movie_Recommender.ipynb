{
  "cells": [
    {
      "cell_type": "markdown",
      "metadata": {
        "id": "view-in-github",
        "colab_type": "text"
      },
      "source": [
        "<a href=\"https://colab.research.google.com/github/FiddiCoder/Movie-Recommender/blob/main/ml_pipeline/Movie_Recommender.ipynb\" target=\"_parent\"><img src=\"https://colab.research.google.com/assets/colab-badge.svg\" alt=\"Open In Colab\"/></a>"
      ]
    },
    {
      "cell_type": "code",
      "execution_count": 123,
      "metadata": {
        "id": "hApke_Bfi-rj"
      },
      "outputs": [],
      "source": [
        "#@title Import Librerie\n",
        "import pandas as pd\n",
        "import numpy as np\n",
        "import re\n",
        "from tqdm import tqdm_notebook as tqdm\n",
        "from PIL import Image\n",
        "import requests\n",
        "from io import BytesIO\n",
        "import matplotlib.pyplot as plt\n",
        "import os\n",
        "import tarfile\n",
        "from six.moves import urllib\n",
        "from sklearn.model_selection import train_test_split, cross_val_score, cross_val_predict\n",
        "from sklearn import datasets, linear_model,tree\n",
        "from sklearn.metrics import accuracy_score, classification_report, confusion_matrix, f1_score\n",
        "import seaborn as sns\n",
        "from sklearn.preprocessing import LabelEncoder\n",
        "from sklearn.naive_bayes import GaussianNB\n",
        "from mlxtend.evaluate import bias_variance_decomp\n",
        "from sklearn.metrics import zero_one_loss\n",
        "from imblearn.over_sampling import SMOTE\n",
        "from pandas.core.arrays.arrow import dtype"
      ]
    },
    {
      "cell_type": "code",
      "execution_count": 124,
      "metadata": {
        "id": "x0fjqt_X8iBY"
      },
      "outputs": [],
      "source": [
        "#@title Download e formattazione dataset film\n",
        "\n",
        "DOWNLOAD_ROOT = \"https://raw.githubusercontent.com/FiddiCoder/Movie-Recommender/main/\"\n",
        "FILE_PATH = os.path.join(\"dataset\")\n",
        "FILE_URL1 = DOWNLOAD_ROOT + \"dataset/movies2\"\n",
        "\n",
        "def fetch_file_data1(file_url1=FILE_URL1, file_path1=FILE_PATH):\n",
        "    os.makedirs(file_path1, exist_ok=True)\n",
        "    csv_path1 = os.path.join(file_path1, \"movies2\")\n",
        "    urllib.request.urlretrieve(file_url1, csv_path1)\n",
        "\n",
        "fetch_file_data1()\n",
        "datapath = os.path.join(\"dataset\",\"\")\n",
        "\n",
        "with open('./dataset/movies2', encoding = \"ISO-8859-1\") as content:\n",
        "    colonne = ['movie_id', 'movie_title', 'release_date', 'video_release_date', 'imdb_url']\n",
        "    generi = ['unknown', 'action', 'adventure', 'animation', 'children', 'comedy', 'crime', 'documentary', 'drama', 'fantasy',\n",
        "          'film-noir',  'horror', 'musical', 'mystery', 'romance', 'sci-fi', 'thriller', 'war', 'western']\n",
        "    colonneG = colonne + generi\n",
        "    movies = pd.DataFrame(columns=colonneG)\n",
        "    i = 0\n",
        "    for x in content:\n",
        "        x = x.split(\"|\")\n",
        "        x[-1] = x[-1][:-1]\n",
        "        if x[1][-1] == ' ':\n",
        "            x[1] = x[1][:-1]\n",
        "        movies.loc[i] = [word if word!='' else \"empty\" for word in x]\n",
        "        i = i + 1\n",
        "movies['movie_id'] = movies['movie_id'].astype('int64')\n",
        "movies[generi] = movies[generi].astype('category')\n",
        "\n"
      ]
    },
    {
      "cell_type": "code",
      "execution_count": 125,
      "metadata": {
        "id": "HWZBgvREaK2A"
      },
      "outputs": [],
      "source": [
        "#@title Data cleaning: Tabelle con feature inutili\n",
        "movies = movies.drop('video_release_date', axis=1)\n",
        "movies = movies.drop('release_date', axis=1)\n",
        "movies = movies.drop('imdb_url', axis=1)\n"
      ]
    },
    {
      "cell_type": "code",
      "execution_count": 126,
      "metadata": {
        "id": "8BHKLaJ7IUPS"
      },
      "outputs": [],
      "source": [
        "#@title Download e formattazione dataset utenti\n",
        "DOWNLOAD_ROOT = \"https://raw.githubusercontent.com/FiddiCoder/Movie-Recommender/main/\"\n",
        "FILE_PATH = os.path.join(\"dataset\")\n",
        "FILE_URL1 = DOWNLOAD_ROOT + \"dataset/users.user\"\n",
        "\n",
        "def fetch_file_data1(file_url1=FILE_URL1, file_path1=FILE_PATH):\n",
        "    os.makedirs(file_path1, exist_ok=True)\n",
        "    csv_path1 = os.path.join(file_path1, \"users.user\")\n",
        "    urllib.request.urlretrieve(file_url1, csv_path1)\n",
        "\n",
        "fetch_file_data1()\n",
        "datapath = os.path.join(\"dataset\",\"\")\n",
        "\n",
        "colonne_user = ['user_id', 'age', 'gender', 'occupation', 'zip_code']\n",
        "users = pd.read_csv('./dataset/users.user', sep='|', names=colonne_user)\n"
      ]
    },
    {
      "cell_type": "code",
      "execution_count": 127,
      "metadata": {
        "id": "NnuqVWMIfj0w"
      },
      "outputs": [],
      "source": [
        "#@title Data cleaning, trasformazione variabili da string a boolean\n",
        "\n",
        "#Drop feature inutile\n",
        "users = users.drop('zip_code', axis=1)\n",
        "\n",
        "#Data cleaning = Eliminazione righe vuote\n",
        "users = users[users['gender'] != 'empty']\n",
        "users = users[users['occupation'] != 'empty']\n",
        "\n",
        "#Colonne occupation e gender trasformate in più colonne coi rispettivi nomi delle variabili per dare loro valori booleani\n",
        "users['occupation'] = users['occupation'].astype('category')\n",
        "users['gender'] = users['gender'].astype('category')\n",
        "one_hot_occ = users.occupation.str.get_dummies()\n",
        "users = users.drop('occupation',axis=1)\n",
        "users = users.join(one_hot_occ,how='inner')\n",
        "one_hot_g = users.gender.str.get_dummies()\n",
        "users = users.drop('gender',axis=1)\n",
        "users = users.join(one_hot_g,how='inner')\n",
        "#users.head(5)"
      ]
    },
    {
      "cell_type": "code",
      "execution_count": 128,
      "metadata": {
        "id": "-x8SpRVYMDCD"
      },
      "outputs": [],
      "source": [
        "#@title Download dataset chiave per joinare utenti e film\n",
        "DOWNLOAD_ROOT = \"https://raw.githubusercontent.com/FiddiCoder/Movie-Recommender/main/\"\n",
        "FILE_PATH = os.path.join(\"dataset\")\n",
        "FILE_URL1 = DOWNLOAD_ROOT + \"dataset/usersmovies.data\"\n",
        "\n",
        "def fetch_file_data1(file_url1=FILE_URL1, file_path1=FILE_PATH):\n",
        "    os.makedirs(file_path1, exist_ok=True)\n",
        "    csv_path1 = os.path.join(file_path1, \"usersmovies.data\")\n",
        "    urllib.request.urlretrieve(file_url1, csv_path1)\n",
        "\n",
        "fetch_file_data1()\n",
        "datapath = os.path.join(\"dataset\",\"\")\n",
        "\n",
        "colonnekey = ['user_id', 'movie_id', 'rating', 'timestamp']\n",
        "key = pd.read_csv('./dataset/usersmovies.data', sep='\\t', names=colonnekey)\n",
        "\n",
        "#Drop feature inutile\n",
        "key = key.drop('timestamp', axis=1)\n",
        "#key.head(50)"
      ]
    },
    {
      "cell_type": "code",
      "execution_count": 129,
      "metadata": {
        "id": "x3r5OP5LNZXk"
      },
      "outputs": [],
      "source": [
        "#@title Join dataset utenti e film\n",
        "final_dataset = key.merge(movies, left_on='movie_id', right_on='movie_id', how='inner')\n",
        "final_dataset = final_dataset.merge(users, left_on='user_id', right_on='user_id', how='inner')\n",
        "\n",
        "#Spostiamo la colonna target in ultima posizione\n",
        "sposta_colonna = final_dataset.pop(\"rating\")\n",
        "final_dataset.insert(46, \"rating\", sposta_colonna)\n",
        "\n",
        "#final_dataset.head(10)"
      ]
    },
    {
      "cell_type": "code",
      "execution_count": 130,
      "metadata": {
        "id": "TNC-4bOXhiER"
      },
      "outputs": [],
      "source": [
        "#@title Trasformazione colonna target in booleana\n",
        "\n",
        "#Vecchia implementazione, modificata dopo Quarto Test\n",
        "\n",
        "final_dataset['rating'] = final_dataset['rating'].replace(0,0)\n",
        "final_dataset['rating'] = final_dataset['rating'].replace(1,0)\n",
        "final_dataset['rating'] = final_dataset['rating'].replace(2,0)\n",
        "final_dataset['rating'] = final_dataset['rating'].replace(3,1)\n",
        "final_dataset['rating'] = final_dataset['rating'].replace(4,1)\n",
        "final_dataset['rating'] = final_dataset['rating'].replace(5,1)\n",
        "#final_dataset.head(10)\n"
      ]
    },
    {
      "cell_type": "code",
      "execution_count": 131,
      "metadata": {
        "id": "LtYu639qw5kd"
      },
      "outputs": [],
      "source": [
        "#@title Feature Selection\n",
        "\n",
        "#Trasformazione variabili categoriche affinchè compaiano nella matrice di correlazione\n",
        "le = LabelEncoder()\n",
        "final_dataset['unknown'] = le.fit_transform(final_dataset['unknown'])\n",
        "final_dataset['action'] = le.fit_transform(final_dataset['action'])\n",
        "final_dataset['adventure'] = le.fit_transform(final_dataset['adventure'])\n",
        "final_dataset['animation'] = le.fit_transform(final_dataset['animation'])\n",
        "final_dataset['children'] = le.fit_transform(final_dataset['children'])\n",
        "final_dataset['comedy'] = le.fit_transform(final_dataset['comedy'])\n",
        "final_dataset['crime'] = le.fit_transform(final_dataset['crime'])\n",
        "final_dataset['documentary'] = le.fit_transform(final_dataset['documentary'])\n",
        "final_dataset['drama'] = le.fit_transform(final_dataset['drama'])\n",
        "final_dataset['fantasy'] = le.fit_transform(final_dataset['fantasy'])\n",
        "final_dataset['film-noir'] = le.fit_transform(final_dataset['film-noir'])\n",
        "final_dataset['horror'] = le.fit_transform(final_dataset['horror'])\n",
        "final_dataset['musical'] = le.fit_transform(final_dataset['musical'])\n",
        "final_dataset['mystery'] = le.fit_transform(final_dataset['mystery'])\n",
        "final_dataset['romance'] = le.fit_transform(final_dataset['romance'])\n",
        "final_dataset['sci-fi'] = le.fit_transform(final_dataset['sci-fi'])\n",
        "final_dataset['thriller'] = le.fit_transform(final_dataset['thriller'])\n",
        "final_dataset['war'] = le.fit_transform(final_dataset['war'])\n",
        "final_dataset['western'] = le.fit_transform(final_dataset['western'])\n",
        "\n",
        "#Matrice correlazione feature\n",
        "#sns.set(rc = {'figure.figsize':(48,24)})\n",
        "#sns.heatmap(final_dataset.corr(), annot = True, fmt='.2g',cmap= 'coolwarm')\n"
      ]
    },
    {
      "cell_type": "code",
      "execution_count": 132,
      "metadata": {
        "id": "f_TkvuLjqhug",
        "colab": {
          "base_uri": "https://localhost:8080/"
        },
        "outputId": "56c2b019-1f39-439a-ccd9-039355692c02"
      },
      "outputs": [
        {
          "output_type": "stream",
          "name": "stderr",
          "text": [
            "<ipython-input-132-776015b7d820>:3: FutureWarning: The default value of numeric_only in DataFrame.corr is deprecated. In a future version, it will default to False. Select only valid columns or specify the value of numeric_only to silence this warning.\n",
            "  correlation_matrix = final_dataset.corr()\n"
          ]
        }
      ],
      "source": [
        "#@title Ordinamento correlazioni con feature target\n",
        "# Calcola la correlazione tra le feature e la colonna del rating\n",
        "correlation_matrix = final_dataset.corr()\n",
        "rating_correlation = correlation_matrix['rating'].drop('rating').drop('movie_id').drop('user_id')  # Rimuovi la correlazione con se stessa\n",
        "\n",
        "# Ordina le feature in base alla correlazione con il rating\n",
        "sorted_features = rating_correlation.abs().sort_values(ascending=False)\n",
        "\n",
        "# Stampa le feature ordinate per correlazione con il rating\n",
        "#print(sorted_features)\n"
      ]
    },
    {
      "cell_type": "code",
      "execution_count": 133,
      "metadata": {
        "id": "_fzueg3Zqvdp"
      },
      "outputs": [],
      "source": [
        "#@title Prendiamo le migliori 24 feature\n",
        "\n",
        "final_dataset = final_dataset.drop('marketing',axis=1)\n",
        "final_dataset = final_dataset.drop('unknown',axis=1)\n",
        "final_dataset = final_dataset.drop('musical',axis=1)\n",
        "final_dataset = final_dataset.drop('sci-fi',axis=1)\n",
        "final_dataset = final_dataset.drop('salesman',axis=1)\n",
        "final_dataset = final_dataset.drop('artist',axis=1)\n",
        "final_dataset = final_dataset.drop('retired',axis=1)\n",
        "final_dataset = final_dataset.drop('other',axis=1)\n",
        "final_dataset = final_dataset.drop('adventure',axis=1)\n",
        "final_dataset = final_dataset.drop('technician',axis=1)\n",
        "final_dataset = final_dataset.drop('student',axis=1)\n",
        "final_dataset = final_dataset.drop('homemaker',axis=1)\n",
        "final_dataset = final_dataset.drop('animation',axis=1)\n",
        "final_dataset = final_dataset.drop('F',axis=1)\n",
        "final_dataset = final_dataset.drop('M',axis=1)\n",
        "final_dataset = final_dataset.drop('lawyer',axis=1)\n",
        "final_dataset = final_dataset.drop('programmer',axis=1)\n",
        "final_dataset = final_dataset.drop('documentary',axis=1)\n",
        "final_dataset = final_dataset.drop('thriller',axis=1)\n",
        "\n",
        "#Scartiamo le righe che hanno tutti i generi vuoti\n",
        "final_dataset = final_dataset.loc[~((final_dataset['drama'] == 0) & (final_dataset['comedy'] == 0) & (final_dataset['war'] == 0)\n",
        " & (final_dataset['horror'] == 0)  & (final_dataset['film-noir'] == 0) & (final_dataset['romance'] == 0)\n",
        "  & (final_dataset['children'] == 0) & (final_dataset['fantasy'] == 0) & (final_dataset['action'] == 0)\n",
        "  &  (final_dataset['mystery'] == 0) & (final_dataset['crime'] == 0) & (final_dataset['western'] == 0))\n",
        " ]\n",
        "\n",
        "#Scartiamo le righe che hanno tutti i dati dell'utente vuoti\n",
        "final_dataset = final_dataset.loc[~((final_dataset['healthcare'] == 0) & (final_dataset['age'] == 0) & (final_dataset['executive'] == 0)\n",
        " & (final_dataset['writer'] == 0)  & (final_dataset['educator'] == 0) & (final_dataset['administrator'] == 0)\n",
        "  & (final_dataset['scientist'] == 0) & (final_dataset['engineer'] == 0) & (final_dataset['librarian'] == 0)\n",
        "  & (final_dataset['doctor'] == 0) & (final_dataset['entertainment'] == 0) & (final_dataset['none'] == 0))]\n",
        "\n",
        "\n",
        "#final_dataset.head(100)\n"
      ]
    },
    {
      "cell_type": "code",
      "execution_count": 134,
      "metadata": {
        "colab": {
          "base_uri": "https://localhost:8080/"
        },
        "id": "fsys8v67wgfv",
        "outputId": "c2d258c2-d90a-491c-a8a1-595fdfaafe72"
      },
      "outputs": [
        {
          "output_type": "stream",
          "name": "stdout",
          "text": [
            "Il film Birdcage e l' utente con id 196 non sono compatibili\n",
            "Valore reale differente dal valore predetto\n",
            "\n",
            "\n",
            "\n",
            "\n",
            "Risultati modello:\n",
            "\n",
            "\n",
            "Cross validation: \n",
            " [0.63665645 0.64278419 0.69408437 0.69754105 0.69751728 0.69421747\n",
            " 0.69052483 0.69264613 0.69885292 0.69665305]\n",
            "\n",
            "\n",
            "Accuracy modello: 0.5956\n",
            "Confusion matrix\n",
            "\n",
            " [[1999 1398]\n",
            " [6383 9459]]\n",
            "-------------------------------\n",
            "\n",
            "\n"
          ]
        },
        {
          "output_type": "stream",
          "name": "stderr",
          "text": [
            "/usr/local/lib/python3.10/dist-packages/sklearn/base.py:432: UserWarning: X has feature names, but DecisionTreeClassifier was fitted without feature names\n",
            "  warnings.warn(\n"
          ]
        },
        {
          "output_type": "stream",
          "name": "stdout",
          "text": [
            "Average expected loss: 0.460\n",
            "Average bias: 8764.023\n",
            "Average variance: 0.087\n",
            "Sklearn 0-1 loss: 0.405\n",
            "Average expected loss--After pruning: 0.522\n",
            "Average bias--After pruning: 10022.819\n",
            "Average variance--After pruning: 0.001\n",
            "Sklearn 0-1 loss--After pruning: 0.480\n"
          ]
        }
      ],
      "source": [
        "\n",
        "#@title Decision Tree Oversampling\n",
        "\n",
        "X = final_dataset.iloc[:,3:27]\n",
        "y = final_dataset.iloc[:,27:]\n",
        "x_train, X_test, y_train, y_test = train_test_split(X, y,\n",
        "test_size=0.20, random_state=0)\n",
        "\n",
        "smote = SMOTE()\n",
        "\n",
        "x_train_oversampled, y_train_oversampled = smote.fit_resample(x_train, y_train)\n",
        "\n",
        "dtree = tree.DecisionTreeClassifier()\n",
        "modello = dtree.fit(x_train_oversampled.values, y_train_oversampled)\n",
        "\n",
        "for i in range(1, len(final_dataset)):\n",
        "    movie = final_dataset.iloc[i, 2]\n",
        "    id = final_dataset.iloc[i,0]\n",
        "    if(movie == 'Birdcage, The (1996)'):\n",
        "      if(id== 196):\n",
        "        movie_prova = final_dataset.iloc[i,3:27]\n",
        "        movie_prova_realvalue = final_dataset.iloc[i, 27]\n",
        "\n",
        "prediction = dtree.predict([movie_prova])\n",
        "\n",
        "if(prediction[0] == 0):\n",
        "  print(\"Il film Birdcage e l' utente con id 196 non sono compatibili\")\n",
        "  if(movie_prova_realvalue == 0):\n",
        "    print(\"Valore reale uguale al valore predetto\")\n",
        "  else:\n",
        "    print(\"Valore reale differente dal valore predetto\")\n",
        "else:\n",
        "  print(\"Il film Birdcage e l' utente con id 196 sono compatibili\")\n",
        "  if(movie_prova_realvalue == 1):\n",
        "    print(\"Valore reale uguale al valore predetto\")\n",
        "  else:\n",
        "    print(\"Valore reale differente dal valore predetto\")\n",
        "print(\"\\n\")\n",
        "print(\"\\n\")\n",
        "\n",
        "print(\"Risultati modello:\")\n",
        "print(\"\\n\")\n",
        "\n",
        "\n",
        "score = cross_val_score(modello, x_train_oversampled, y_train_oversampled, cv = 10)\n",
        "print(\"Cross validation: \\n\",score)\n",
        "print(\"\\n\")\n",
        "\n",
        "\n",
        "predict = dtree.predict(X_test)\n",
        "print('Accuracy modello: {0:0.4f}'.\n",
        "format(accuracy_score(y_test, predict)))\n",
        "\n",
        "cm = confusion_matrix(y_test, predict)\n",
        "print('Confusion matrix\\n\\n', cm)\n",
        "\n",
        "print('-------------------------------')\n",
        "print('\\n')\n",
        "\n",
        "dtree = tree.DecisionTreeClassifier(random_state=123)\n",
        "dtree.fit(x_train_oversampled.values,y_train_oversampled.values)\n",
        "predict = dtree.predict(X_test.values)\n",
        "\n",
        "avg_expected_loss, avg_bias, avg_var = bias_variance_decomp(\n",
        "        dtree, x_train_oversampled.values, y_train_oversampled.values, X_test.values, y_test.values,\n",
        "        loss='0-1_loss',\n",
        "        random_seed=123)\n",
        "\n",
        "print('Average expected loss: %.3f' % avg_expected_loss)\n",
        "print('Average bias: %.3f' % avg_bias) #underfitting altissimo\n",
        "print('Average variance: %.3f' % avg_var)\n",
        "print('Sklearn 0-1 loss: %.3f' % zero_one_loss(y_test,predict))\n",
        "\n",
        "\n",
        "### After Pruning ###\n",
        "dtree_prnd = tree.DecisionTreeClassifier(criterion='gini', max_depth=3, random_state=123)\n",
        "dtree_prnd.fit(x_train_oversampled.values,y_train_oversampled.values)\n",
        "predict=dtree_prnd.predict(X_test.values)\n",
        "\n",
        "avg_expected_loss, avg_bias, avg_var = bias_variance_decomp(\n",
        "        dtree_prnd, x_train_oversampled.values, y_train_oversampled.values, X_test.values, y_test.values,\n",
        "        loss='0-1_loss',\n",
        "        random_seed=123)\n",
        "\n",
        "print('Average expected loss--After pruning: %.3f' % avg_expected_loss)\n",
        "print('Average bias--After pruning: %.3f' % avg_bias)\n",
        "print('Average variance--After pruning: %.3f' % avg_var)\n",
        "print('Sklearn 0-1 loss--After pruning: %.3f' % zero_one_loss(y_test,predict))"
      ]
    },
    {
      "cell_type": "code",
      "execution_count": 135,
      "metadata": {
        "id": "mLCn6q4Fd9rV",
        "colab": {
          "base_uri": "https://localhost:8080/"
        },
        "outputId": "72427cde-e8e9-44f4-939c-21b7a0279102"
      },
      "outputs": [
        {
          "output_type": "stream",
          "name": "stdout",
          "text": [
            "Numero di righe con valore 1: 16484\n",
            "Numero di righe con valore 0: 16709\n",
            "Il film Birdcage e l' utente con id 196 non sono compatibili\n",
            "Valore reale differente dal valore predetto\n",
            "\n",
            "\n",
            "\n",
            "\n",
            "Risultati modello:\n",
            "\n",
            "\n",
            "Cross validation: \n",
            " [0.60429217 0.58810241 0.58509036 0.58245482 0.60301318 0.59510358\n",
            " 0.61092279 0.57777778 0.59849341 0.59585687]\n",
            "\n",
            "\n",
            "Accuracy modello: 0.5897\n",
            "Confusion matrix\n",
            "\n",
            " [[2170 1238]\n",
            " [1486 1745]]\n",
            "-------------------------------\n",
            "\n",
            "\n"
          ]
        },
        {
          "output_type": "stream",
          "name": "stderr",
          "text": [
            "/usr/local/lib/python3.10/dist-packages/sklearn/base.py:432: UserWarning: X has feature names, but DecisionTreeClassifier was fitted without feature names\n",
            "  warnings.warn(\n"
          ]
        },
        {
          "output_type": "stream",
          "name": "stdout",
          "text": [
            "Average expected loss: 0.499\n",
            "Average bias: 3310.609\n",
            "Average variance: 0.178\n",
            "Sklearn 0-1 loss: 0.410\n",
            "Average expected loss--After pruning: 0.498\n",
            "Average bias--After pruning: 3297.278\n",
            "Average variance--After pruning: 0.056\n",
            "Sklearn 0-1 loss--After pruning: 0.427\n"
          ]
        }
      ],
      "source": [
        "#@title Decision Tree Undersampling\n",
        "\n",
        "\n",
        "# Determina il numero di righe da eliminare casualmente\n",
        "num_rows_to_drop = 63000  # Specifica il numero di righe da eliminare\n",
        "\n",
        "# Seleziona solo le righe con rating = 1 e determina l'indice di queste righe\n",
        "rows_to_drop = final_dataset.loc[final_dataset['rating'] == 1].index\n",
        "\n",
        "# Genera un array casuale di indici di riga da eliminare\n",
        "random_rows = np.random.choice(rows_to_drop, size=num_rows_to_drop, replace=False)\n",
        "\n",
        "# Elimina le righe casuali dal DataFrame\n",
        "final_dataset.drop(random_rows, inplace=True)\n",
        "\n",
        "\n",
        "# Conta il numero di righe in cui il valore della colonna è 1\n",
        "count_1 = len(final_dataset[final_dataset['rating'] == 1])\n",
        "\n",
        "# Conta il numero di righe in cui il valore della colonna è 0\n",
        "count_0 = len(final_dataset[final_dataset['rating'] == 0])\n",
        "\n",
        "# Stampa i risultati\n",
        "print(\"Numero di righe con valore 1:\", count_1)\n",
        "print(\"Numero di righe con valore 0:\", count_0)\n",
        "\n",
        "X = final_dataset.iloc[:,3:27]\n",
        "y = final_dataset.iloc[:,27:]\n",
        "X_train, X_test, y_train, y_test = train_test_split(X, y,\n",
        "test_size=0.20, random_state=0)\n",
        "\n",
        "dtree = tree.DecisionTreeClassifier()\n",
        "modello = dtree.fit(X_train.values, y_train)\n",
        "\n",
        "for i in range(1, len(final_dataset)):\n",
        "    movie = final_dataset.iloc[i, 2]\n",
        "    id = final_dataset.iloc[i,0]\n",
        "    if(movie == 'Birdcage, The (1996)'):\n",
        "      if(id== 196):\n",
        "        movie_prova = final_dataset.iloc[i,3:27]\n",
        "        movie_prova_realvalue = final_dataset.iloc[i, 27]\n",
        "\n",
        "prediction = dtree.predict([movie_prova])\n",
        "\n",
        "if(prediction[0] == 0):\n",
        "  print(\"Il film Birdcage e l' utente con id 196 non sono compatibili\")\n",
        "  if(movie_prova_realvalue == 0):\n",
        "    print(\"Valore reale uguale al valore predetto\")\n",
        "  else:\n",
        "    print(\"Valore reale differente dal valore predetto\")\n",
        "else:\n",
        "  print(\"Il film Birdcage e l' utente con id 196 sono compatibili\")\n",
        "  if(movie_prova_realvalue == 1):\n",
        "    print(\"Valore reale uguale al valore predetto\")\n",
        "  else:\n",
        "    print(\"Valore reale differente dal valore predetto\")\n",
        "\n",
        "print(\"\\n\")\n",
        "print(\"\\n\")\n",
        "print(\"Risultati modello:\")\n",
        "print(\"\\n\")\n",
        "\n",
        "score = cross_val_score(modello, X_train, y_train, cv = 10)\n",
        "print(\"Cross validation: \\n\",score)\n",
        "print(\"\\n\")\n",
        "\n",
        "\n",
        "predict = dtree.predict(X_test)\n",
        "print('Accuracy modello: {0:0.4f}'.\n",
        "format(accuracy_score(y_test, predict)))\n",
        "\n",
        "cm = confusion_matrix(y_test, predict)\n",
        "print('Confusion matrix\\n\\n', cm)\n",
        "\n",
        "print('-------------------------------')\n",
        "print('\\n')\n",
        "\n",
        "dtree = tree.DecisionTreeClassifier(random_state=123)\n",
        "dtree.fit(X_train.values,y_train.values)\n",
        "predict = dtree.predict(X_test.values)\n",
        "\n",
        "avg_expected_loss, avg_bias, avg_var = bias_variance_decomp(\n",
        "        dtree, X_train.values, y_train.values, X_test.values, y_test.values,\n",
        "        loss='0-1_loss',\n",
        "        random_seed=123)\n",
        "\n",
        "print('Average expected loss: %.3f' % avg_expected_loss)\n",
        "print('Average bias: %.3f' % avg_bias) #underfitting altissimo\n",
        "print('Average variance: %.3f' % avg_var)\n",
        "print('Sklearn 0-1 loss: %.3f' % zero_one_loss(y_test,predict))\n",
        "\n",
        "\n",
        "### After Pruning ###\n",
        "dtree_prnd = tree.DecisionTreeClassifier(criterion='gini', max_depth=3, random_state=123)\n",
        "dtree_prnd.fit(X_train.values,y_train.values)\n",
        "predict=dtree_prnd.predict(X_test.values)\n",
        "\n",
        "avg_expected_loss, avg_bias, avg_var = bias_variance_decomp(\n",
        "        dtree_prnd, X_train.values, y_train.values, X_test.values, y_test.values,\n",
        "        loss='0-1_loss',\n",
        "        random_seed=123)\n",
        "\n",
        "print('Average expected loss--After pruning: %.3f' % avg_expected_loss)\n",
        "print('Average bias--After pruning: %.3f' % avg_bias)\n",
        "print('Average variance--After pruning: %.3f' % avg_var)\n",
        "print('Sklearn 0-1 loss--After pruning: %.3f' % zero_one_loss(y_test,predict))\n",
        "\n"
      ]
    }
  ],
  "metadata": {
    "colab": {
      "provenance": [],
      "include_colab_link": true
    },
    "kernelspec": {
      "display_name": "Python 3",
      "name": "python3"
    },
    "language_info": {
      "name": "python"
    }
  },
  "nbformat": 4,
  "nbformat_minor": 0
}